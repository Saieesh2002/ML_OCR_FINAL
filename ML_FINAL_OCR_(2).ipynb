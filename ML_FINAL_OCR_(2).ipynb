{
  "nbformat": 4,
  "nbformat_minor": 0,
  "metadata": {
    "colab": {
      "provenance": [],
      "include_colab_link": true
    },
    "kernelspec": {
      "name": "python3",
      "display_name": "Python 3"
    },
    "language_info": {
      "name": "python"
    }
  },
  "cells": [
    {
      "cell_type": "markdown",
      "metadata": {
        "id": "view-in-github",
        "colab_type": "text"
      },
      "source": [
        "<a href=\"https://colab.research.google.com/github/Saieesh2002/ML_OCR_FINAL/blob/main/ML_FINAL_OCR_(2).ipynb\" target=\"_parent\"><img src=\"https://colab.research.google.com/assets/colab-badge.svg\" alt=\"Open In Colab\"/></a>"
      ]
    },
    {
      "cell_type": "code",
      "execution_count": null,
      "metadata": {
        "id": "9xyorZZLb7aP"
      },
      "outputs": [],
      "source": [
        "from tensorflow.keras.datasets import mnist\n",
        "from matplotlib import pyplot as plt"
      ]
    },
    {
      "cell_type": "code",
      "source": [
        "from numpy import mean\n",
        "from numpy import std\n",
        "from matplotlib import pyplot as plt\n",
        "from sklearn.model_selection import KFold\n",
        "from tensorflow.keras.datasets import mnist\n",
        "from tensorflow.keras.utils import to_categorical\n",
        "from tensorflow.keras.models import Sequential\n",
        "from tensorflow.keras.layers import Conv2D\n",
        "from tensorflow.keras.layers import MaxPooling2D\n",
        "from tensorflow.keras.layers import Dense\n",
        "from tensorflow.keras.layers import Flatten\n",
        "from tensorflow.keras.optimizers import SGD"
      ],
      "metadata": {
        "id": "UEfj4ZWFcs7H"
      },
      "execution_count": null,
      "outputs": []
    },
    {
      "cell_type": "code",
      "source": [
        "def load_dataset():\n",
        " # load dataset\n",
        " (train_X, train_Y), (test_X, test_Y) = mnist.load_data()\n",
        " # reshape dataset to have a single channel\n",
        " train_X = train_X.reshape((train_X.shape[0], 28, 28, 1))\n",
        " test_X = test_X.reshape((test_X.shape[0], 28, 28, 1))\n",
        " # one hot encode target values\n",
        " train_Y = to_categorical(train_Y)\n",
        " test_Y = to_categorical(test_Y)\n",
        " return train_X, train_Y, test_X, test_Y"
      ],
      "metadata": {
        "id": "4VcYF36edzwk"
      },
      "execution_count": null,
      "outputs": []
    },
    {
      "cell_type": "code",
      "source": [
        "def prep_pixels(train, test):\n",
        " # convert from integers to floats\n",
        " train_norm = train.astype('float32')\n",
        " test_norm = test.astype('float32')\n",
        " # normalize to range 0-1\n",
        " train_norm = train_norm / 255.0\n",
        " test_norm = test_norm / 255.0\n",
        " # return normalized images\n",
        " return train_norm, test_norm"
      ],
      "metadata": {
        "id": "ragWNpVreF6-"
      },
      "execution_count": null,
      "outputs": []
    },
    {
      "cell_type": "code",
      "source": [
        "def define_model():\n",
        " model = Sequential()\n",
        " model.add(Conv2D(32, (3, 3), activation='relu', kernel_initializer='he_uniform', input_shape=(28, 28, 1)))\n",
        " model.add(MaxPooling2D((2, 2)))\n",
        " model.add(Flatten())\n",
        " model.add(Dense(100, activation='relu', kernel_initializer='he_uniform'))\n",
        " model.add(Dense(10, activation='softmax'))\n",
        " # compile model\n",
        " opt = SGD(learning_rate=0.01, momentum=0.9)\n",
        " model.compile(optimizer=opt, loss='categorical_crossentropy', metrics=['accuracy'])\n",
        " return model\n"
      ],
      "metadata": {
        "id": "pTksAW3QrQ1t"
      },
      "execution_count": null,
      "outputs": []
    },
    {
      "cell_type": "code",
      "source": [
        "def evaluate_model(dataX, dataY, n_folds=5):\n",
        " scores, histories = list(), list()\n",
        " # prepare cross validation\n",
        " kfold = KFold(n_folds, shuffle=True, random_state=1)\n",
        " # enumerate splits\n",
        " for train_ix, test_ix in kfold.split(dataX):\n",
        " # define model\n",
        "    model = define_model()\n",
        " # select rows for train and test\n",
        "    train_X, train_Y, test_X, test_Y = dataX[train_ix], dataY[train_ix], dataX[test_ix], dataY[test_ix]\n",
        " # fit model\n",
        "    history = model.fit(train_X, train_Y, epochs=10, batch_size=32, validation_data=(test_X, test_Y), verbose=0)\n",
        " # evaluate model\n",
        "    _, acc = model.evaluate(test_X, test_Y, verbose=0)\n",
        "    print('> %.3f' % (acc * 100.0))\n",
        " # stores scores\n",
        "    scores.append(acc)\n",
        "    histories.append(history)\n",
        "    return scores, histories"
      ],
      "metadata": {
        "id": "VmDPsUUKrdzz"
      },
      "execution_count": null,
      "outputs": []
    },
    {
      "cell_type": "code",
      "source": [
        "def summarize_diagnostics(histories):\n",
        " for i in range(len(histories)):\n",
        " # plot loss\n",
        "  plt.subplot(2, 1, 1)\n",
        "  plt.title('Cross Entropy Loss')\n",
        "  plt.plot(histories[i].history['loss'], color='blue', label='train')\n",
        "  plt.plot(histories[i].history['val_loss'], color='orange', label='test')\n",
        "  # plot accuracy\n",
        "  plt.subplot(2, 1, 2)\n",
        "  plt.title('Classification Accuracy')\n",
        "  plt.plot(histories[i].history['accuracy'], color='blue', label='train')\n",
        "  plt.plot(histories[i].history['val_accuracy'], color='orange', label='test')\n",
        "  plt.show()"
      ],
      "metadata": {
        "id": "aY4csDNM58Dq"
      },
      "execution_count": null,
      "outputs": []
    },
    {
      "cell_type": "code",
      "source": [
        "def summarize_performance(scores):\n",
        " # print summary\n",
        " print('Accuracy: mean=%.3f std=%.3f, n=%d' % (mean(scores)*100, std(scores)*100, len(scores)))\n",
        " # box and whisker plots of results\n",
        " plt.boxplot(scores)\n",
        " plt.show()"
      ],
      "metadata": {
        "id": "l7Os7mc561hF"
      },
      "execution_count": null,
      "outputs": []
    },
    {
      "cell_type": "code",
      "source": [
        "def run_test_harness():\n",
        " # load dataset\n",
        " train_X, train_Y, test_X, test_Y = load_dataset()\n",
        " # prepare pixel data\n",
        " train_X, test_X = prep_pixels(train_X, test_X)\n",
        " # evaluate model\n",
        " scores, histories = evaluate_model(train_X, train_Y)\n",
        " # learning curves\n",
        " summarize_diagnostics(histories)\n",
        " # summarize estimated performance\n",
        " summarize_performance(scores)"
      ],
      "metadata": {
        "id": "rUB7Ynti7iqx"
      },
      "execution_count": null,
      "outputs": []
    },
    {
      "cell_type": "code",
      "source": [
        "run_test_harness()"
      ],
      "metadata": {
        "colab": {
          "base_uri": "https://localhost:8080/",
          "height": 939
        },
        "id": "_JBeDUOt7mhj",
        "outputId": "879c11a6-9228-41d0-fd3a-73c41331245f"
      },
      "execution_count": null,
      "outputs": [
        {
          "output_type": "stream",
          "name": "stdout",
          "text": [
            "Downloading data from https://storage.googleapis.com/tensorflow/tf-keras-datasets/mnist.npz\n",
            "11490434/11490434 [==============================] - 1s 0us/step\n",
            "> 98.600\n"
          ]
        },
        {
          "output_type": "display_data",
          "data": {
            "text/plain": [
              "<Figure size 640x480 with 2 Axes>"
            ],
            "image/png": "[encoded data removed]"
          },
          "metadata": {}
        },
        {
          "output_type": "stream",
          "name": "stdout",
          "text": [
            "Accuracy: mean=98.600 std=0.000, n=1\n"
          ]
        },
        {
          "output_type": "display_data",
          "data": {
            "text/plain": [
              "<Figure size 640x480 with 1 Axes>"
            ],
            "image/png": "[encoded data removed]"
          },
          "metadata": {}
        }
      ]
    },
    {
      "cell_type": "code",
      "source": [
        "import numpy as np\n",
        "from tensorflow.keras.preprocessing import image\n",
        "\n",
        "# ... (previous code remains the same)\n",
        "\n",
        "# Function to make predictions on new data\n",
        "def predict_new_data(model, image_path):\n",
        "    # Load and preprocess the image\n",
        "    img = image.load_img(image_path, target_size=(28, 28), grayscale=True)\n",
        "    img_array = image.img_to_array(img)\n",
        "    img_array = np.expand_dims(img_array, axis=0)\n",
        "    img_array /= 255.0  # Normalize to range 0-1\n",
        "\n",
        "    # Make prediction\n",
        "    prediction = model.predict(img_array)\n",
        "    class_label = np.argmax(prediction)\n",
        "\n",
        "    return class_label\n",
        "\n",
        "# Function to get user input and make predictions\n",
        "def get_user_input_and_predict(model):\n",
        "    while True:\n",
        "        # Get the path to the image from the user\n",
        "        image_path = input(\"Enter the path to the image file (or 'exit' to quit): \")\n",
        "\n",
        "        if image_path.lower() == 'exit':\n",
        "            break\n",
        "\n",
        "        try:\n",
        "            # Make predictions\n",
        "            class_label = predict_new_data(model, image_path)\n",
        "            print(f\"Predicted class label: {class_label}\")\n",
        "        except Exception as e:\n",
        "            print(f\"Error: {e}\")\n",
        "\n",
        "# run_test_harness()  # Comment out the original test harness\n",
        "\n",
        "# Load the model\n",
        "model = define_model()\n",
        "\n",
        "# Get user input and make predictions\n",
        "get_user_input_and_predict(model)"
      ],
      "metadata": {
        "id": "evm6CDvQc6z0"
      },
      "execution_count": null,
      "outputs": []
    }
  ]
}